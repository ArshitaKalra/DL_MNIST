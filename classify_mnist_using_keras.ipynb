{
  "nbformat": 4,
  "nbformat_minor": 0,
  "metadata": {
    "colab": {
      "name": "classify_mnist_using_keras.ipynb",
      "version": "0.3.2",
      "provenance": [],
      "collapsed_sections": []
    },
    "kernelspec": {
      "name": "python3",
      "display_name": "Python 3"
    }
  },
  "cells": [
    {
      "cell_type": "code",
      "metadata": {
        "id": "nzIDloIcKdSE",
        "colab_type": "code",
        "colab": {
          "base_uri": "https://localhost:8080/",
          "height": 341
        },
        "outputId": "3bb87d30-9af8-47df-afa5-8ca781005270"
      },
      "source": [
        "import keras\n",
        "from keras.datasets import mnist\n",
        "from keras.layers import Dense\n",
        "from keras.models import Sequential\n",
        "\n",
        "(xtrain,ytrain), (xtest,ytest)= mnist.load_data()\n",
        "print(len(xtest[0][0]))\n",
        "\n",
        "print(\"train data shape: \",xtrain.shape)\n",
        "print(\"test data shape : \",xtest.shape)\n",
        "\n",
        "img_vec_size = 28*28\n",
        "\n",
        "xtrain=xtrain.reshape(xtrain.shape[0],img_vec_size)\n",
        "print(xtrain)\n",
        "\n",
        "xtest=xtest.reshape(xtest.shape[0],img_vec_size)\n",
        "print(len(xtest[0]))\n",
        "\n",
        "print(\"train label shape: \",ytrain.shape)\n",
        "\n",
        "print(\"first five training labels: \",ytrain[:5])\n",
        "\n",
        "num_classes = 10\n",
        "ytrain=keras.utils.to_categorical(ytrain, num_classes)\n",
        "ytest = keras.utils.to_categorical(ytest,num_classes)\n",
        "print(ytrain[:5])"
      ],
      "execution_count": 5,
      "outputs": [
        {
          "output_type": "stream",
          "text": [
            "28\n",
            "train data shape:  (60000, 28, 28)\n",
            "test data shape :  (10000, 28, 28)\n",
            "[[0 0 0 ... 0 0 0]\n",
            " [0 0 0 ... 0 0 0]\n",
            " [0 0 0 ... 0 0 0]\n",
            " ...\n",
            " [0 0 0 ... 0 0 0]\n",
            " [0 0 0 ... 0 0 0]\n",
            " [0 0 0 ... 0 0 0]]\n",
            "784\n",
            "train label shape:  (60000,)\n",
            "first five training labels:  [5 0 4 1 9]\n",
            "[[0. 0. 0. 0. 0. 1. 0. 0. 0. 0.]\n",
            " [1. 0. 0. 0. 0. 0. 0. 0. 0. 0.]\n",
            " [0. 0. 0. 0. 1. 0. 0. 0. 0. 0.]\n",
            " [0. 1. 0. 0. 0. 0. 0. 0. 0. 0.]\n",
            " [0. 0. 0. 0. 0. 0. 0. 0. 0. 1.]]\n"
          ],
          "name": "stdout"
        }
      ]
    },
    {
      "cell_type": "code",
      "metadata": {
        "colab_type": "code",
        "outputId": "38cc0aeb-8740-4ba3-cc4c-89ae0ceb9612",
        "id": "1Fz57919MnFn",
        "colab": {
          "base_uri": "https://localhost:8080/",
          "height": 251
        }
      },
      "source": [
        "\n",
        "\n",
        "\n",
        "img_size = 784\n",
        "model = Sequential()\n",
        "\n",
        "model.add(Dense(units = 1000, activation = 'sigmoid', input_shape = (img_size,)))\n",
        "model.add(Dense(units = num_classes, activation = 'softmax'))\n",
        "model.summary()\n",
        "\n",
        "model.compile(optimizer=\"sgd\", loss=\"categorical_crossentropy\", metrics=['accuracy'])\n",
        "history = model.fit(xtrain, ytrain, batch_size=128, epochs=15, verbose=False, validation_split=.1)\n",
        "loss, accuracy = model.evaluate(xtest, ytest, verbose=False)\n",
        "\n",
        "print(f'test loss: {loss:}')\n",
        "\n",
        "print(f'Test accuracy: {accuracy:}')"
      ],
      "execution_count": 6,
      "outputs": [
        {
          "output_type": "stream",
          "text": [
            "_________________________________________________________________\n",
            "Layer (type)                 Output Shape              Param #   \n",
            "=================================================================\n",
            "dense_5 (Dense)              (None, 1000)              785000    \n",
            "_________________________________________________________________\n",
            "dense_6 (Dense)              (None, 10)                10010     \n",
            "=================================================================\n",
            "Total params: 795,010\n",
            "Trainable params: 795,010\n",
            "Non-trainable params: 0\n",
            "_________________________________________________________________\n",
            "test loss: 0.151\n",
            "Test accuracy: 0.956\n"
          ],
          "name": "stdout"
        }
      ]
    }
  ]
}